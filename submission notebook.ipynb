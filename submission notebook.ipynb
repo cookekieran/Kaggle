{
 "cells": [
  {
   "cell_type": "code",
   "execution_count": 1,
   "id": "5a4f1a8d-c146-41ce-9fbc-19e568ab94e5",
   "metadata": {},
   "outputs": [],
   "source": [
    "import pandas as pd\n",
    "import matplotlib.pyplot as plt"
   ]
  },
  {
   "cell_type": "code",
   "execution_count": 3,
   "id": "e5532708-ad6d-4f1b-89ad-9e84591769c3",
   "metadata": {},
   "outputs": [
    {
     "name": "stdout",
     "output_type": "stream",
     "text": [
      "train shape: (517754, 14)\n",
      "test shape: (172585, 13)\n"
     ]
    }
   ],
   "source": [
    "# na_values covers common placeholders; adjust if your competition uses special tokens\n",
    "read_csv_opts = dict(low_memory=False, na_values=[\"\", \"NA\", \"NaN\", \"null\"])\n",
    "\n",
    "train = pd.read_csv('train.csv', **read_csv_opts)\n",
    "test  = pd.read_csv('test.csv', **read_csv_opts)\n",
    "\n",
    "print(\"train shape:\", train.shape)\n",
    "print(\"test shape:\", test.shape)\n"
   ]
  },
  {
   "cell_type": "code",
   "execution_count": null,
   "id": "a72d96e9-24e3-4860-abad-941aa79d832a",
   "metadata": {},
   "outputs": [],
   "source": []
  }
 ],
 "metadata": {
  "kernelspec": {
   "display_name": "Python 3 (ipykernel)",
   "language": "python",
   "name": "python3"
  },
  "language_info": {
   "codemirror_mode": {
    "name": "ipython",
    "version": 3
   },
   "file_extension": ".py",
   "mimetype": "text/x-python",
   "name": "python",
   "nbconvert_exporter": "python",
   "pygments_lexer": "ipython3",
   "version": "3.13.5"
  }
 },
 "nbformat": 4,
 "nbformat_minor": 5
}
